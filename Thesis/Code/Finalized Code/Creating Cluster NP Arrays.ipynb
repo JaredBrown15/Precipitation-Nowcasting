{
 "cells": [
  {
   "cell_type": "code",
   "execution_count": 1,
   "id": "5429056b",
   "metadata": {},
   "outputs": [],
   "source": [
    "import numpy as np\n",
    "import pandas as pd\n",
    "np_load_old = np.load\n",
    "np.load = lambda *a,**k: np_load_old(*a, allow_pickle=True, **k)"
   ]
  },
  {
   "cell_type": "code",
   "execution_count": 2,
   "id": "3a3b49c1",
   "metadata": {},
   "outputs": [],
   "source": [
    "load_path = 'D:\\Final Dataset/threshold_114_nSTD_1/np_array_object/first_frames_with_clusters.csv'\n",
    "df = pd.read_csv(load_path)"
   ]
  },
  {
   "cell_type": "code",
   "execution_count": 3,
   "id": "e90c542d",
   "metadata": {},
   "outputs": [],
   "source": [
    "cluster_list = df[\"Cluster\"].tolist()"
   ]
  },
  {
   "cell_type": "code",
   "execution_count": 4,
   "id": "ecb2ea8d",
   "metadata": {},
   "outputs": [],
   "source": [
    "# cluster_list\n",
    "load_path = 'D:\\Final Dataset/threshold_114_nSTD_1/np_array_no_text.npy'\n",
    "arr = np.load(load_path)"
   ]
  },
  {
   "cell_type": "code",
   "execution_count": 5,
   "id": "4d7b36f5",
   "metadata": {},
   "outputs": [],
   "source": [
    "cluster1 = []\n",
    "cluster2 = []\n",
    "for i in range(0, len(cluster_list)):\n",
    "    cluster = cluster_list[i]\n",
    "    event = arr[i]\n",
    "    if cluster==1:\n",
    "        cluster1.append(event)\n",
    "    else:\n",
    "        cluster2.append(event)"
   ]
  },
  {
   "cell_type": "code",
   "execution_count": 6,
   "id": "b47af5a0",
   "metadata": {},
   "outputs": [
    {
     "data": {
      "text/plain": [
       "10446"
      ]
     },
     "execution_count": 6,
     "metadata": {},
     "output_type": "execute_result"
    }
   ],
   "source": [
    "len(cluster1)"
   ]
  },
  {
   "cell_type": "code",
   "execution_count": 7,
   "id": "4953a79d",
   "metadata": {},
   "outputs": [],
   "source": [
    "cluster1_array = np.array(cluster1)\n",
    "save_path = 'D:\\Final Dataset/threshold_114_nSTD_1/Clusters/Cluster 1/cluster1_arr.npy'\n",
    "np.save(save_path, cluster1_array, allow_pickle=True)"
   ]
  },
  {
   "cell_type": "code",
   "execution_count": 8,
   "id": "19d60a5b",
   "metadata": {},
   "outputs": [],
   "source": [
    "cluster2_array = np.array(cluster2)\n",
    "save_path = 'D:\\Final Dataset/threshold_114_nSTD_1/Clusters/Cluster 2/cluster2_arr.npy'\n",
    "np.save(save_path, cluster2_array, allow_pickle=True)"
   ]
  },
  {
   "cell_type": "code",
   "execution_count": null,
   "id": "8db94d64",
   "metadata": {},
   "outputs": [],
   "source": []
  }
 ],
 "metadata": {
  "kernelspec": {
   "display_name": "Python 3 (ipykernel)",
   "language": "python",
   "name": "python3"
  },
  "language_info": {
   "codemirror_mode": {
    "name": "ipython",
    "version": 3
   },
   "file_extension": ".py",
   "mimetype": "text/x-python",
   "name": "python",
   "nbconvert_exporter": "python",
   "pygments_lexer": "ipython3",
   "version": "3.9.13"
  }
 },
 "nbformat": 4,
 "nbformat_minor": 5
}
