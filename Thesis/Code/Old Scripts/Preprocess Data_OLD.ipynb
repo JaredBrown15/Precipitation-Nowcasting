{
 "cells": [
  {
   "cell_type": "code",
   "execution_count": 1,
   "id": "5acd6e7b-62f2-406b-a307-c937ba39c7bd",
   "metadata": {},
   "outputs": [],
   "source": [
    "import ANNDataPrep\n",
    "import numpy as np"
   ]
  },
  {
   "cell_type": "code",
   "execution_count": 55,
   "id": "17603f97-6ee9-4dc3-99c9-9e41a92e117c",
   "metadata": {},
   "outputs": [],
   "source": [
    "\n",
    "input_sequence_length = 13\n",
    "forecast_horizon = 1     # 24 = 2 hr,    12 = 1 hr,     6 = 30 min\n",
    "features = 13\n",
    "X_path = \"C:/Users/jared/OneDrive/Documents/School/Thesis/Preprocessed Data/X_input_\" + str(input_sequence_length) + \"_horizon_\" + str(forecast_horizon) + \".npy\"\n",
    "y_path = \"C:/Users/jared/OneDrive/Documents/School/Thesis/Preprocessed Data/y_input_\" + str(input_sequence_length) + \"_horizon_\" + str(forecast_horizon) + \".npy\""
   ]
  },
  {
   "cell_type": "code",
   "execution_count": 56,
   "id": "e047cdca-3c19-4503-b709-d3934b503ad2",
   "metadata": {},
   "outputs": [
    {
     "name": "stdout",
     "output_type": "stream",
     "text": [
      "--- 89.07260632514954 seconds ---\n",
      "(523495, 13, 13)\n",
      "(523495, 13)\n"
     ]
    }
   ],
   "source": [
    "path = \"D:\\MyData/Extracted Data\"\n",
    "X, y = ANNDataPrep.preprocessData(input_sequence_length, forecast_horizon, features, path)"
   ]
  },
  {
   "cell_type": "code",
   "execution_count": 57,
   "id": "6ac16c7c-dad6-4525-8e4a-f12eec93c705",
   "metadata": {},
   "outputs": [],
   "source": [
    "np.save(X_path, X)\n",
    "np.save(y_path, y)"
   ]
  },
  {
   "cell_type": "code",
   "execution_count": 67,
   "id": "845a5f68-f542-42c4-bdfb-2269eebb8d20",
   "metadata": {},
   "outputs": [
    {
     "name": "stdout",
     "output_type": "stream",
     "text": [
      "7328\n"
     ]
    }
   ],
   "source": [
    "import os\n",
    "dir_list = os.listdir(\"D:/MyData/TrainTestSplits/3/train/train\")\n",
    "num_files = len(dir_list)\n",
    "print(num_files)"
   ]
  },
  {
   "cell_type": "code",
   "execution_count": null,
   "id": "db3aaa8c-499c-4ac6-9214-cc2f3e3afffc",
   "metadata": {},
   "outputs": [],
   "source": []
  }
 ],
 "metadata": {
  "kernelspec": {
   "display_name": "Python 3 (ipykernel)",
   "language": "python",
   "name": "python3"
  },
  "language_info": {
   "codemirror_mode": {
    "name": "ipython",
    "version": 3
   },
   "file_extension": ".py",
   "mimetype": "text/x-python",
   "name": "python",
   "nbconvert_exporter": "python",
   "pygments_lexer": "ipython3",
   "version": "3.11.9"
  }
 },
 "nbformat": 4,
 "nbformat_minor": 5
}
