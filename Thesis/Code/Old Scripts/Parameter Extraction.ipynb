{
 "cells": [
  {
   "cell_type": "markdown",
   "id": "20be79dd-8c17-48e6-8b47-d5dbcdfc1804",
   "metadata": {},
   "source": [
    "# Extracting Parameters From Sensor Data and Creating Parameter Dataframe"
   ]
  },
  {
   "cell_type": "code",
   "execution_count": 15,
   "id": "416272ba-ce2f-4ec0-8630-b4cce5681b93",
   "metadata": {},
   "outputs": [
    {
     "name": "stdout",
     "output_type": "stream",
     "text": [
      "Found 20273 events matching {'vil'}\n"
     ]
    }
   ],
   "source": [
    "# import h5py # needs conda/pip install h5py\n",
    "# import os\n",
    "# os.chdir(r'C:\\Users\\jared\\OneDrive\\Documents\\School\\Thesis')\n",
    "\n",
    "import sys\n",
    "sys.path.append(r'C:\\users\\jared\\anaconda3\\lib\\site-packages')\n",
    "# import command_file\n",
    "\n",
    "import matplotlib.pyplot as plt\n",
    "import pandas as pd\n",
    "import spear as sp\n",
    "import numpy as np\n",
    "from pathlib import Path  \n",
    "import time\n",
    "\n",
    "DATA_PATH    = 'D:\\SEVIR Data\\data'\n",
    "CATALOG_PATH = 'D:\\SEVIR Data/CATALOG.csv'\n",
    "\n",
    "# Read catalog\n",
    "catalog = pd.read_csv(CATALOG_PATH,parse_dates=['time_utc'],low_memory=False)\n",
    "\n",
    "# Desired image types\n",
    "img_types = set(['vil'])\n",
    "\n",
    "# Group by event id, and filter to only events that have all desired img_types\n",
    "events = catalog.groupby('id').filter(lambda x: img_types.issubset(set(x['img_type']))).groupby('id')\n",
    "event_ids = list(events.groups.keys())\n",
    "print('Found %d events matching' % len(event_ids),img_types)"
   ]
  },
  {
   "cell_type": "markdown",
   "id": "80a1213a-d55a-4c75-9e3d-21f02dfd27c4",
   "metadata": {},
   "source": [
    "### Construct DataFrame for Storage"
   ]
  },
  {
   "cell_type": "code",
   "execution_count": 1,
   "id": "3373e8ec-bcfc-46c9-a654-cf91daa48b6f",
   "metadata": {},
   "outputs": [
    {
     "ename": "NameError",
     "evalue": "name 'time' is not defined",
     "output_type": "error",
     "traceback": [
      "\u001b[1;31m---------------------------------------------------------------------------\u001b[0m",
      "\u001b[1;31mNameError\u001b[0m                                 Traceback (most recent call last)",
      "\u001b[1;32m~\\AppData\\Local\\Temp\\ipykernel_9260\\2491198357.py\u001b[0m in \u001b[0;36m<module>\u001b[1;34m\u001b[0m\n\u001b[0;32m      3\u001b[0m \u001b[0mdf_ignored\u001b[0m \u001b[1;33m=\u001b[0m \u001b[1;33m[\u001b[0m\u001b[1;33m]\u001b[0m\u001b[1;33m\u001b[0m\u001b[1;33m\u001b[0m\u001b[0m\n\u001b[0;32m      4\u001b[0m \u001b[1;33m\u001b[0m\u001b[0m\n\u001b[1;32m----> 5\u001b[1;33m \u001b[0mstart_time\u001b[0m \u001b[1;33m=\u001b[0m \u001b[0mtime\u001b[0m\u001b[1;33m.\u001b[0m\u001b[0mtime\u001b[0m\u001b[1;33m(\u001b[0m\u001b[1;33m)\u001b[0m\u001b[1;33m\u001b[0m\u001b[1;33m\u001b[0m\u001b[0m\n\u001b[0m\u001b[0;32m      6\u001b[0m \u001b[1;33m\u001b[0m\u001b[0m\n\u001b[0;32m      7\u001b[0m features = ['EventID', \n",
      "\u001b[1;31mNameError\u001b[0m: name 'time' is not defined"
     ]
    }
   ],
   "source": [
    "threshold = 100\n",
    "df_ignored = []\n",
    "\n",
    "start_time = time.time()\n",
    "\n",
    "features = ['EventID', \n",
    "            'FileName',\n",
    "            'SemiMajorAxisLength', \n",
    "            'SemiMinorAxisLength', \n",
    "            'EllipseAngle', \n",
    "            'COMX', \n",
    "            'COMY', \n",
    "            'Average',\n",
    "            'Intensity',\n",
    "            'VelocityX',\n",
    "            'VelocityY',\n",
    "            'AngularVelocity']\n",
    "flag = True\n",
    "\n",
    "\n",
    "\n",
    "for event_index in range(0, len(event_ids)):\n",
    "# for event_index in range(5, 7):\n",
    "    sample_event = events.get_group(event_ids[event_index])\n",
    "    if(sample_event.size > 21):\n",
    "        sample_event = sample_event.loc[sample_event['img_type'] == 'vil']\n",
    "        if(sample_event.size > 21):\n",
    "            sample_event = pd.DataFrame(sample_event.iloc[0,:])\n",
    "            sample_event = sample_event.T\n",
    "    event_Number = event_ids[event_index]\n",
    "    # print(sample_event)\n",
    "    percent_missing = sample_event.loc[:,'pct_missing'].item()\n",
    "    print(event_index, event_Number, percent_missing)\n",
    "    \n",
    "    if percent_missing > 30:\n",
    "        df_ignored.append([event_Number, file_name])\n",
    "        flag = False\n",
    "        \n",
    "    file_name = sample_event.loc[:,'file_name'].item()\n",
    "    # print(sample_event.head())\n",
    "    vil = sp.read_data(sample_event, 'vil')\n",
    "    parameterVector = []\n",
    "\n",
    "    if flag:\n",
    "        for frame in range(0, vil.shape[2]):\n",
    "            image = vil[:,:,frame]\n",
    "            # missingness = sp.checkMissingness(image)\n",
    "            # print(percentMissing, missingness)\n",
    "            # if (missingness > 0.33):\n",
    "            #     flag = False\n",
    "            #     break\n",
    "            try:\n",
    "                major, minor, angle, com, average, intensity = sp.findStormParams(image, threshold)\n",
    "            except:\n",
    "                df_ignored.append([event_Number, file_name])\n",
    "                # print('This file not valid')\n",
    "                flag = False\n",
    "                break\n",
    "                \n",
    "            comX = com[0]\n",
    "            comY = com[1]\n",
    "            \n",
    "            params = [event_Number, file_name, major, minor, angle, comX, comY, average, intensity, 0.0, 0.0, 0.0]\n",
    "            parameterVector.append(params)\n",
    "\n",
    "    if flag:\n",
    "        df = pd.DataFrame(parameterVector, columns = features)\n",
    "        velocityX = sp.findCOMVelocity(df.loc[:,'COMX'])\n",
    "        velocityY = sp.findCOMVelocity(df.loc[:,'COMY'])\n",
    "        angularVelocity = sp.findAngularVelocity(df.loc[:,'EllipseAngle'])\n",
    "        df.loc[0:47,'VelocityX'] = velocityX\n",
    "        df.loc[0:47,'VelocityY'] = velocityY\n",
    "        df.loc[0:47,'AngularVelocity'] = angularVelocity        \n",
    "        \n",
    "        paramFileName = event_Number + '_Params.csv'\n",
    "        filepath = Path('D:\\Extracted Data', paramFileName)  \n",
    "        # filepath.parent.mkdir(parents=True, exist_ok=True)  \n",
    "        # df.to_csv(filepath, index=False)\n",
    "    flag = True\n",
    "print(\"--- %s seconds ---\" % (time.time() - start_time))"
   ]
  },
  {
   "cell_type": "code",
   "execution_count": 3,
   "id": "ae511c10-c230-4fb0-bac4-000eaf9290b8",
   "metadata": {},
   "outputs": [
    {
     "data": {
      "text/plain": [
       "5316"
      ]
     },
     "execution_count": 3,
     "metadata": {},
     "output_type": "execute_result"
    }
   ],
   "source": [
    "len(df_ignored)"
   ]
  },
  {
   "cell_type": "code",
   "execution_count": 4,
   "id": "f87ab5ed-272b-4ac7-bd4a-eb9a1c62436c",
   "metadata": {},
   "outputs": [
    {
     "data": {
      "text/plain": [
       "[<matplotlib.lines.Line2D at 0x1a2761f2310>]"
      ]
     },
     "execution_count": 4,
     "metadata": {},
     "output_type": "execute_result"
    },
    {
     "data": {
      "image/png": "[encoded data removed]",
      "text/plain": [
       "<Figure size 640x480 with 1 Axes>"
      ]
     },
     "metadata": {},
     "output_type": "display_data"
    }
   ],
   "source": [
    "from matplotlib.patches import Ellipse\n",
    "from display import get_cmap\n",
    "\n",
    "i = 40\n",
    "\n",
    "im = vil[:,:,i]\n",
    "major = df.iloc[i,2]\n",
    "minor = df.iloc[i,3]\n",
    "an = df.iloc[i,4]\n",
    "x = df.iloc[i,5]\n",
    "y = df.iloc[i,6]\n",
    "\n",
    "vil_cmap,vil_norm,vil_vmin,vil_vmax = get_cmap('vil',encoded=True)\n",
    "plt.imshow(im,cmap=vil_cmap,norm=vil_norm,vmin=vil_vmin,vmax=vil_vmax)\n",
    "ax = plt.gca()\n",
    "ell = Ellipse(xy=(y, x), \n",
    "              width= major*2, \n",
    "              height= minor*2,\n",
    "              angle= an)\n",
    "ell.set_facecolor('none')\n",
    "ell.set_edgecolor('violet')\n",
    "ax.add_artist(ell)\n",
    "plt.plot(y,x, \"ob\", markersize=5)"
   ]
  },
  {
   "cell_type": "code",
   "execution_count": 5,
   "id": "7e733267-5012-4b50-a769-2785d83972c5",
   "metadata": {},
   "outputs": [
    {
     "data": {
      "text/html": [
       "<div>\n",
       "<style scoped>\n",
       "    .dataframe tbody tr th:only-of-type {\n",
       "        vertical-align: middle;\n",
       "    }\n",
       "\n",
       "    .dataframe tbody tr th {\n",
       "        vertical-align: top;\n",
       "    }\n",
       "\n",
       "    .dataframe thead th {\n",
       "        text-align: right;\n",
       "    }\n",
       "</style>\n",
       "<table border=\"1\" class=\"dataframe\">\n",
       "  <thead>\n",
       "    <tr style=\"text-align: right;\">\n",
       "      <th></th>\n",
       "      <th>event_id</th>\n",
       "      <th>file_name</th>\n",
       "    </tr>\n",
       "  </thead>\n",
       "  <tbody>\n",
       "    <tr>\n",
       "      <th>0</th>\n",
       "      <td>R17061411227811</td>\n",
       "      <td>vil/2017/SEVIR_VIL_RANDOMEVENTS_2017_0501_0831.h5</td>\n",
       "    </tr>\n",
       "    <tr>\n",
       "      <th>1</th>\n",
       "      <td>R17061411227912</td>\n",
       "      <td>vil/2017/SEVIR_VIL_RANDOMEVENTS_2017_0501_0831.h5</td>\n",
       "    </tr>\n",
       "    <tr>\n",
       "      <th>2</th>\n",
       "      <td>R17061415277461</td>\n",
       "      <td>vil/2017/SEVIR_VIL_RANDOMEVENTS_2017_0501_0831.h5</td>\n",
       "    </tr>\n",
       "    <tr>\n",
       "      <th>3</th>\n",
       "      <td>R17061415277774</td>\n",
       "      <td>vil/2017/SEVIR_VIL_RANDOMEVENTS_2017_0501_0831.h5</td>\n",
       "    </tr>\n",
       "    <tr>\n",
       "      <th>4</th>\n",
       "      <td>R17061418507777</td>\n",
       "      <td>vil/2017/SEVIR_VIL_RANDOMEVENTS_2017_0501_0831.h5</td>\n",
       "    </tr>\n",
       "  </tbody>\n",
       "</table>\n",
       "</div>"
      ],
      "text/plain": [
       "          event_id                                          file_name\n",
       "0  R17061411227811  vil/2017/SEVIR_VIL_RANDOMEVENTS_2017_0501_0831.h5\n",
       "1  R17061411227912  vil/2017/SEVIR_VIL_RANDOMEVENTS_2017_0501_0831.h5\n",
       "2  R17061415277461  vil/2017/SEVIR_VIL_RANDOMEVENTS_2017_0501_0831.h5\n",
       "3  R17061415277774  vil/2017/SEVIR_VIL_RANDOMEVENTS_2017_0501_0831.h5\n",
       "4  R17061418507777  vil/2017/SEVIR_VIL_RANDOMEVENTS_2017_0501_0831.h5"
      ]
     },
     "execution_count": 5,
     "metadata": {},
     "output_type": "execute_result"
    }
   ],
   "source": [
    "filepath = Path('D:\\Extracted Data\\ignored_events.csv')\n",
    "df_ignored = pd.DataFrame(df_ignored)\n",
    "df_ignored.columns = ['event_id', 'file_name']\n",
    "df_ignored.head()"
   ]
  },
  {
   "cell_type": "code",
   "execution_count": 6,
   "id": "bbf08c6b-d592-42a2-86cc-2914f6e270bf",
   "metadata": {},
   "outputs": [],
   "source": [
    "df_ignored.to_csv(filepath, index=False)"
   ]
  },
  {
   "cell_type": "markdown",
   "id": "3aba5b6a-76d3-41e6-b765-8013f2dfaf04",
   "metadata": {},
   "source": [
    "Weird Indices:\n",
    "    66 - Double vil entry\n",
    "    4324 - ???"
   ]
  },
  {
   "cell_type": "code",
   "execution_count": 12,
   "id": "b1c92d9c-9f76-4c71-a655-db14701ce71c",
   "metadata": {},
   "outputs": [
    {
     "data": {
      "text/plain": [
       "5316.0"
      ]
     },
     "execution_count": 12,
     "metadata": {},
     "output_type": "execute_result"
    }
   ],
   "source": [
    "df_ignored.size / 2"
   ]
  },
  {
   "cell_type": "code",
   "execution_count": 8,
   "id": "4b5da943-1402-473e-8eec-d10ea6f0341c",
   "metadata": {},
   "outputs": [],
   "source": [
    "df = pd.read_csv('D:\\Extracted Data/R17061402258162_Params.csv')\n",
    "# df.head()"
   ]
  },
  {
   "cell_type": "code",
   "execution_count": null,
   "id": "c36ed702-de8b-4c47-b1be-be3e7289744c",
   "metadata": {},
   "outputs": [],
   "source": []
  }
 ],
 "metadata": {
  "kernelspec": {
   "display_name": "Python 3 (ipykernel)",
   "language": "python",
   "name": "python3"
  },
  "language_info": {
   "codemirror_mode": {
    "name": "ipython",
    "version": 3
   },
   "file_extension": ".py",
   "mimetype": "text/x-python",
   "name": "python",
   "nbconvert_exporter": "python",
   "pygments_lexer": "ipython3",
   "version": "3.9.13"
  }
 },
 "nbformat": 4,
 "nbformat_minor": 5
}
