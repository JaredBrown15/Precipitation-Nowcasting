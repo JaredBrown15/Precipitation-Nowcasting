{
 "cells": [
  {
   "cell_type": "code",
   "execution_count": 1,
   "id": "ff6ceae8-b302-4a67-89cb-a97c752b5633",
   "metadata": {},
   "outputs": [
    {
     "name": "stderr",
     "output_type": "stream",
     "text": [
      "\n",
      "KeyboardInterrupt\n",
      "\n"
     ]
    }
   ],
   "source": [
    "import os\n",
    "os.environ[\"KERAS_BACKEND\"] = \"tensorflow\"\n",
    "import pandas as pd\n",
    "import numpy as np\n",
    "import typing\n",
    "import matplotlib.pyplot as plt\n",
    "from numpy.lib.stride_tricks import sliding_window_view\n",
    "import time\n",
    "import tensorflow as tf\n",
    "import keras\n",
    "import  math"
   ]
  },
  {
   "cell_type": "markdown",
   "id": "95e40e07-b372-4ef0-832c-2178c84ef416",
   "metadata": {},
   "source": [
    "### Define Vars"
   ]
  },
  {
   "cell_type": "code",
   "execution_count": 2,
   "id": "d6ae32dc-627c-4717-8314-585faff9f711",
   "metadata": {},
   "outputs": [],
   "source": [
    "input_sequence_length = 12\n",
    "forecast_horizon = 12     # 24 = 2 hr,    12 = 1 hr,     6 = 30 min\n",
    "# path = \"D:\\MyData/Extracted Data/train\"\n",
    "# path = \"D:\\MyData/Clustered Data/train/4\"\n",
    "path = \"D:\\MyData/Extracted Data/train\"\n",
    "dir_list = os.listdir(path)\n",
    "as_strided = np.lib.stride_tricks.as_strided  \n",
    "num_files = len(dir_list)\n",
    "features = 13\n",
    "batch_size = 64\n"
   ]
  },
  {
   "cell_type": "code",
   "execution_count": 3,
   "id": "08dff250-374c-4c8d-8946-042540be0ab8",
   "metadata": {
    "scrolled": true
   },
   "outputs": [
    {
     "name": "stdout",
     "output_type": "stream",
     "text": [
      "--- 48.9102520942688 seconds ---\n"
     ]
    }
   ],
   "source": [
    "start_time = time.time()\n",
    "targets_array = []\n",
    "inputs_array = []\n",
    "\n",
    "for file in dir_list:\n",
    "    filepath = path + '/' + file\n",
    "    cur_data = pd.read_csv(filepath)\n",
    "    cur_data.drop(columns=['EventID', 'FileName'], inplace=True)\n",
    "    # normalized_cur_data = (cur_data - cur_data.min()) / (cur_data.max() - cur_data.min())\n",
    "    normalized_cur_data=(cur_data-cur_data.mean())/cur_data.std()\n",
    "    ncd = normalized_cur_data.to_numpy()\n",
    "    target_start = input_sequence_length + forecast_horizon\n",
    "    win = (input_sequence_length, ncd.shape[1])\n",
    "    # temp = (ncd.shape[0] - (forecast_horizon+input_sequence_length+1))\n",
    "    input_v1 = sliding_window_view(ncd[:(ncd.shape[0]-forecast_horizon-1)], win, axis=(0, 1))\n",
    "    inputs = input_v1[:,0,:,:]\n",
    "    targets = normalized_cur_data[target_start:]\n",
    "    targets_array.append(targets)\n",
    "    inputs_array.append(inputs)\n",
    "    # targets_array = np.append(targets_array, targets)\n",
    "    # inputs_array = np.append(inputs_array, inputs)\n",
    "print(\"--- %s seconds ---\" % (time.time() - start_time))\n"
   ]
  },
  {
   "cell_type": "code",
   "execution_count": 4,
   "id": "7bb66113-23af-495d-8e6e-0d30d6553fa9",
   "metadata": {},
   "outputs": [],
   "source": [
    "# input = tf.convert_to_tensor(inputs_array)\n",
    "# input2 = tf.data.Dataset.from_tensors(inputs_array)\n",
    "# input2\n",
    "# print(len(inputs_array))\n",
    "# print(inputs_array[0].shape)\n",
    "xtrain = [inputs_array]"
   ]
  },
  {
   "cell_type": "code",
   "execution_count": 5,
   "id": "a824cc5d-8b8a-4f41-9969-b318f20783bb",
   "metadata": {},
   "outputs": [],
   "source": [
    "# inputs_array = inputs_array.reshape(-1, input_sequence_length, features)\n",
    "# targets_array = targets_array.reshape(-1, features)\n",
    "# X_Train = tf.convert_to_tensor(inputs_array)\n",
    "# Y_Train = tf.convert_to_tensor(targets_array)\n",
    "# dataset = tf.data.Dataset.from_tensor_slices((X_Train, Y_Train))\n"
   ]
  },
  {
   "cell_type": "code",
   "execution_count": 6,
   "id": "bacece7d-5178-4e01-8971-138629b8fdbe",
   "metadata": {},
   "outputs": [
    {
     "name": "stdout",
     "output_type": "stream",
     "text": [
      "(261725, 12, 13)\n",
      "(261725, 13)\n"
     ]
    }
   ],
   "source": [
    "# dataset = X_Train.batch(64)\n",
    "# list(dataset.as_numpy_iterator())\n",
    "# type(Batched_Y_Train)\n",
    "# print(targets_array)\n",
    "# print(inputs_array)\n",
    "# xtrain\n",
    "# Type(X_Train)\n",
    "# dataset = tf.data.Dataset.from_tensor_slices(X_Train, Y_Train)\n",
    "X_Train_Array = np.array(inputs_array)\n",
    "Y_Train_Array = np.array(targets_array)\n",
    "# print(X_Train_Array.shape)\n",
    "X_Train_Array = X_Train_Array.reshape(-1, input_sequence_length, features)\n",
    "Y_Train_Array = Y_Train_Array.reshape(-1, features)\n",
    "# batched_dataset = dataset.batch(64)\n",
    "print(X_Train_Array.shape)\n",
    "print(Y_Train_Array.shape)\n",
    "X_Train_Array = np.nan_to_num(X_Train_Array, nan=0, posinf=0, neginf=0)\n",
    "Y_Train_Array = np.nan_to_num(Y_Train_Array, nan=0, posinf=0, neginf=0)"
   ]
  },
  {
   "cell_type": "code",
   "execution_count": 7,
   "id": "fc99f0c6-dc3b-4114-9b3c-d249fa59191c",
   "metadata": {},
   "outputs": [
    {
     "name": "stderr",
     "output_type": "stream",
     "text": [
      "C:\\Users\\jared\\anaconda3\\Lib\\site-packages\\keras\\src\\layers\\rnn\\rnn.py:204: UserWarning: Do not pass an `input_shape`/`input_dim` argument to a layer. When using Sequential models, prefer using an `Input(shape)` object as the first layer in the model instead.\n",
      "  super().__init__(**kwargs)\n"
     ]
    },
    {
     "data": {
      "text/html": [
       "<pre style=\"white-space:pre;overflow-x:auto;line-height:normal;font-family:Menlo,'DejaVu Sans Mono',consolas,'Courier New',monospace\"><span style=\"font-weight: bold\">Model: \"sequential\"</span>\n",
       "</pre>\n"
      ],
      "text/plain": [
       "\u001b[1mModel: \"sequential\"\u001b[0m\n"
      ]
     },
     "metadata": {},
     "output_type": "display_data"
    },
    {
     "data": {
      "text/html": [
       "<pre style=\"white-space:pre;overflow-x:auto;line-height:normal;font-family:Menlo,'DejaVu Sans Mono',consolas,'Courier New',monospace\">┏━━━━━━━━━━━━━━━━━━━━━━━━━━━━━━━━━━━━━━┳━━━━━━━━━━━━━━━━━━━━━━━━━━━━━┳━━━━━━━━━━━━━━━━━┓\n",
       "┃<span style=\"font-weight: bold\"> Layer (type)                         </span>┃<span style=\"font-weight: bold\"> Output Shape                </span>┃<span style=\"font-weight: bold\">         Param # </span>┃\n",
       "┡━━━━━━━━━━━━━━━━━━━━━━━━━━━━━━━━━━━━━━╇━━━━━━━━━━━━━━━━━━━━━━━━━━━━━╇━━━━━━━━━━━━━━━━━┩\n",
       "│ lstm (<span style=\"color: #0087ff; text-decoration-color: #0087ff\">LSTM</span>)                          │ (<span style=\"color: #00d7ff; text-decoration-color: #00d7ff\">None</span>, <span style=\"color: #00af00; text-decoration-color: #00af00\">12</span>, <span style=\"color: #00af00; text-decoration-color: #00af00\">64</span>)              │          <span style=\"color: #00af00; text-decoration-color: #00af00\">19,968</span> │\n",
       "├──────────────────────────────────────┼─────────────────────────────┼─────────────────┤\n",
       "│ lstm_1 (<span style=\"color: #0087ff; text-decoration-color: #0087ff\">LSTM</span>)                        │ (<span style=\"color: #00d7ff; text-decoration-color: #00d7ff\">None</span>, <span style=\"color: #00af00; text-decoration-color: #00af00\">32</span>)                  │          <span style=\"color: #00af00; text-decoration-color: #00af00\">12,416</span> │\n",
       "├──────────────────────────────────────┼─────────────────────────────┼─────────────────┤\n",
       "│ dense (<span style=\"color: #0087ff; text-decoration-color: #0087ff\">Dense</span>)                        │ (<span style=\"color: #00d7ff; text-decoration-color: #00d7ff\">None</span>, <span style=\"color: #00af00; text-decoration-color: #00af00\">64</span>)                  │           <span style=\"color: #00af00; text-decoration-color: #00af00\">2,112</span> │\n",
       "├──────────────────────────────────────┼─────────────────────────────┼─────────────────┤\n",
       "│ dense_1 (<span style=\"color: #0087ff; text-decoration-color: #0087ff\">Dense</span>)                      │ (<span style=\"color: #00d7ff; text-decoration-color: #00d7ff\">None</span>, <span style=\"color: #00af00; text-decoration-color: #00af00\">13</span>)                  │             <span style=\"color: #00af00; text-decoration-color: #00af00\">845</span> │\n",
       "└──────────────────────────────────────┴─────────────────────────────┴─────────────────┘\n",
       "</pre>\n"
      ],
      "text/plain": [
       "┏━━━━━━━━━━━━━━━━━━━━━━━━━━━━━━━━━━━━━━┳━━━━━━━━━━━━━━━━━━━━━━━━━━━━━┳━━━━━━━━━━━━━━━━━┓\n",
       "┃\u001b[1m \u001b[0m\u001b[1mLayer (type)                        \u001b[0m\u001b[1m \u001b[0m┃\u001b[1m \u001b[0m\u001b[1mOutput Shape               \u001b[0m\u001b[1m \u001b[0m┃\u001b[1m \u001b[0m\u001b[1m        Param #\u001b[0m\u001b[1m \u001b[0m┃\n",
       "┡━━━━━━━━━━━━━━━━━━━━━━━━━━━━━━━━━━━━━━╇━━━━━━━━━━━━━━━━━━━━━━━━━━━━━╇━━━━━━━━━━━━━━━━━┩\n",
       "│ lstm (\u001b[38;5;33mLSTM\u001b[0m)                          │ (\u001b[38;5;45mNone\u001b[0m, \u001b[38;5;34m12\u001b[0m, \u001b[38;5;34m64\u001b[0m)              │          \u001b[38;5;34m19,968\u001b[0m │\n",
       "├──────────────────────────────────────┼─────────────────────────────┼─────────────────┤\n",
       "│ lstm_1 (\u001b[38;5;33mLSTM\u001b[0m)                        │ (\u001b[38;5;45mNone\u001b[0m, \u001b[38;5;34m32\u001b[0m)                  │          \u001b[38;5;34m12,416\u001b[0m │\n",
       "├──────────────────────────────────────┼─────────────────────────────┼─────────────────┤\n",
       "│ dense (\u001b[38;5;33mDense\u001b[0m)                        │ (\u001b[38;5;45mNone\u001b[0m, \u001b[38;5;34m64\u001b[0m)                  │           \u001b[38;5;34m2,112\u001b[0m │\n",
       "├──────────────────────────────────────┼─────────────────────────────┼─────────────────┤\n",
       "│ dense_1 (\u001b[38;5;33mDense\u001b[0m)                      │ (\u001b[38;5;45mNone\u001b[0m, \u001b[38;5;34m13\u001b[0m)                  │             \u001b[38;5;34m845\u001b[0m │\n",
       "└──────────────────────────────────────┴─────────────────────────────┴─────────────────┘\n"
      ]
     },
     "metadata": {},
     "output_type": "display_data"
    },
    {
     "data": {
      "text/html": [
       "<pre style=\"white-space:pre;overflow-x:auto;line-height:normal;font-family:Menlo,'DejaVu Sans Mono',consolas,'Courier New',monospace\"><span style=\"font-weight: bold\"> Total params: </span><span style=\"color: #00af00; text-decoration-color: #00af00\">35,341</span> (138.05 KB)\n",
       "</pre>\n"
      ],
      "text/plain": [
       "\u001b[1m Total params: \u001b[0m\u001b[38;5;34m35,341\u001b[0m (138.05 KB)\n"
      ]
     },
     "metadata": {},
     "output_type": "display_data"
    },
    {
     "data": {
      "text/html": [
       "<pre style=\"white-space:pre;overflow-x:auto;line-height:normal;font-family:Menlo,'DejaVu Sans Mono',consolas,'Courier New',monospace\"><span style=\"font-weight: bold\"> Trainable params: </span><span style=\"color: #00af00; text-decoration-color: #00af00\">35,341</span> (138.05 KB)\n",
       "</pre>\n"
      ],
      "text/plain": [
       "\u001b[1m Trainable params: \u001b[0m\u001b[38;5;34m35,341\u001b[0m (138.05 KB)\n"
      ]
     },
     "metadata": {},
     "output_type": "display_data"
    },
    {
     "data": {
      "text/html": [
       "<pre style=\"white-space:pre;overflow-x:auto;line-height:normal;font-family:Menlo,'DejaVu Sans Mono',consolas,'Courier New',monospace\"><span style=\"font-weight: bold\"> Non-trainable params: </span><span style=\"color: #00af00; text-decoration-color: #00af00\">0</span> (0.00 B)\n",
       "</pre>\n"
      ],
      "text/plain": [
       "\u001b[1m Non-trainable params: \u001b[0m\u001b[38;5;34m0\u001b[0m (0.00 B)\n"
      ]
     },
     "metadata": {},
     "output_type": "display_data"
    }
   ],
   "source": [
    "# # Define LSTM model\n",
    "model = tf.keras.models.Sequential()\n",
    "model.add(tf.keras.layers.LSTM(64, return_sequences=True, input_shape=(X_Train_Array.shape[1], X_Train_Array.shape[2])))\n",
    "model.add(tf.keras.layers.LSTM(32, return_sequences=False, input_shape=(X_Train_Array.shape[1], X_Train_Array.shape[2])))\n",
    "# model.add(tf.keras.layers.Dense(50, activation='relu'))\n",
    "model.add(tf.keras.layers.Dense(64, activation='tanh'))\n",
    "# model.add(tf.keras.layers.Dense(13, activation='linear'))\n",
    "model.add(tf.keras.layers.Dense(13, activation='linear'))\n",
    "model.compile(optimizer='adam', loss='mse', metrics=['mse'])\n",
    "model.summary()"
   ]
  },
  {
   "cell_type": "code",
   "execution_count": 8,
   "id": "0bb615d0-bfea-48ad-8f8e-31a0bfafcd44",
   "metadata": {},
   "outputs": [],
   "source": [
    "# print(X_Train_Array.shape)\n",
    "# print(Y_Train_Array.shape)\n",
    "# transposed_X_Train_Array = np.transpose(X_Train_Array, (0, 2, 1))\n",
    "# print(transposed_X_Train_Array.shape)\n"
   ]
  },
  {
   "cell_type": "code",
   "execution_count": 9,
   "id": "69459443-a456-4c8d-b218-b24f7b1c707b",
   "metadata": {},
   "outputs": [],
   "source": [
    "# # # Define LSTM model\n",
    "# model = tf.keras.models.Sequential()\n",
    "# # model.add(tf.keras.layers.InputLayer(shape=(12, 13)))\n",
    "# model.add(tf.keras.layers.LSTM(32, input_shape=(13,1)))\n",
    "# # model.add(tf.keras.layers.Dense(128, activation='tanh'))\n",
    "# # model.add(tf.keras.layers.Dense(64, activation='tanh'))\n",
    "# model.add(tf.keras.layers.Dense(13, activation='linear'))\n",
    "# # # Compile model\n",
    "# # model.compile(loss='mse', optimizer='adam')\n",
    "# model.compile(optimizer='adam', loss='binary_crossentropy', metrics=['accuracy'])\n",
    "# print(model.summary())\n"
   ]
  },
  {
   "cell_type": "code",
   "execution_count": 10,
   "id": "99fdf0b3-b3ee-49cc-82e1-e4a1dc87357a",
   "metadata": {},
   "outputs": [
    {
     "name": "stdout",
     "output_type": "stream",
     "text": [
      "Epoch 1/100\n",
      "\u001b[1m4090/4090\u001b[0m \u001b[32m━━━━━━━━━━━━━━━━━━━━\u001b[0m\u001b[37m\u001b[0m \u001b[1m68s\u001b[0m 14ms/step - loss: 0.8042 - mse: 0.8042\n",
      "Epoch 2/100\n",
      "\u001b[1m4090/4090\u001b[0m \u001b[32m━━━━━━━━━━━━━━━━━━━━\u001b[0m\u001b[37m\u001b[0m \u001b[1m53s\u001b[0m 13ms/step - loss: 0.7337 - mse: 0.7337\n",
      "Epoch 3/100\n",
      "\u001b[1m4090/4090\u001b[0m \u001b[32m━━━━━━━━━━━━━━━━━━━━\u001b[0m\u001b[37m\u001b[0m \u001b[1m51s\u001b[0m 13ms/step - loss: 0.7108 - mse: 0.7108\n",
      "Epoch 4/100\n",
      "\u001b[1m4090/4090\u001b[0m \u001b[32m━━━━━━━━━━━━━━━━━━━━\u001b[0m\u001b[37m\u001b[0m \u001b[1m102s\u001b[0m 25ms/step - loss: 0.6717 - mse: 0.6717\n",
      "Epoch 7/100\n",
      "\u001b[1m4090/4090\u001b[0m \u001b[32m━━━━━━━━━━━━━━━━━━━━\u001b[0m\u001b[37m\u001b[0m \u001b[1m92s\u001b[0m 22ms/step - loss: 0.6621 - mse: 0.6621\n",
      "Epoch 8/100\n",
      "\u001b[1m4090/4090\u001b[0m \u001b[32m━━━━━━━━━━━━━━━━━━━━\u001b[0m\u001b[37m\u001b[0m \u001b[1m139s\u001b[0m 22ms/step - loss: 0.6537 - mse: 0.6537\n",
      "Epoch 9/100\n",
      "\u001b[1m4090/4090\u001b[0m \u001b[32m━━━━━━━━━━━━━━━━━━━━\u001b[0m\u001b[37m\u001b[0m \u001b[1m97s\u001b[0m 24ms/step - loss: 0.6363 - mse: 0.6363\n",
      "Epoch 13/100\n",
      "\u001b[1m4090/4090\u001b[0m \u001b[32m━━━━━━━━━━━━━━━━━━━━\u001b[0m\u001b[37m\u001b[0m \u001b[1m127s\u001b[0m 20ms/step - loss: 0.6320 - mse: 0.6320\n",
      "Epoch 14/100\n",
      "\u001b[1m4090/4090\u001b[0m \u001b[32m━━━━━━━━━━━━━━━━━━━━\u001b[0m\u001b[37m\u001b[0m \u001b[1m156s\u001b[0m 23ms/step - loss: 0.6306 - mse: 0.6306\n",
      "Epoch 15/100\n",
      "\u001b[1m4090/4090\u001b[0m \u001b[32m━━━━━━━━━━━━━━━━━━━━\u001b[0m\u001b[37m\u001b[0m \u001b[1m65s\u001b[0m 16ms/step - loss: 0.6288 - mse: 0.6288\n",
      "Epoch 16/100\n",
      "\u001b[1m4090/4090\u001b[0m \u001b[32m━━━━━━━━━━━━━━━━━━━━\u001b[0m\u001b[37m\u001b[0m \u001b[1m56s\u001b[0m 14ms/step - loss: 0.6252 - mse: 0.6252\n",
      "Epoch 17/100\n",
      "\u001b[1m4090/4090\u001b[0m \u001b[32m━━━━━━━━━━━━━━━━━━━━\u001b[0m\u001b[37m\u001b[0m \u001b[1m59s\u001b[0m 14ms/step - loss: 0.6250 - mse: 0.6250\n",
      "Epoch 18/100\n",
      "\u001b[1m4090/4090\u001b[0m \u001b[32m━━━━━━━━━━━━━━━━━━━━\u001b[0m\u001b[37m\u001b[0m \u001b[1m61s\u001b[0m 15ms/step - loss: 0.6232 - mse: 0.6232\n",
      "Epoch 19/100\n",
      "\u001b[1m4090/4090\u001b[0m \u001b[32m━━━━━━━━━━━━━━━━━━━━\u001b[0m\u001b[37m\u001b[0m \u001b[1m47s\u001b[0m 11ms/step - loss: 0.6188 - mse: 0.6188\n",
      "Epoch 20/100\n",
      "\u001b[1m4090/4090\u001b[0m \u001b[32m━━━━━━━━━━━━━━━━━━━━\u001b[0m\u001b[37m\u001b[0m \u001b[1m99s\u001b[0m 24ms/step - loss: 0.6091 - mse: 0.6091\n",
      "Epoch 24/100\n",
      "\u001b[1m4090/4090\u001b[0m \u001b[32m━━━━━━━━━━━━━━━━━━━━\u001b[0m\u001b[37m\u001b[0m \u001b[1m104s\u001b[0m 25ms/step - loss: 0.6121 - mse: 0.6121\n",
      "Epoch 25/100\n",
      "\u001b[1m4090/4090\u001b[0m \u001b[32m━━━━━━━━━━━━━━━━━━━━\u001b[0m\u001b[37m\u001b[0m \u001b[1m76s\u001b[0m 19ms/step - loss: 0.6049 - mse: 0.6049\n",
      "Epoch 31/100\n",
      "\u001b[1m4090/4090\u001b[0m \u001b[32m━━━━━━━━━━━━━━━━━━━━\u001b[0m\u001b[37m\u001b[0m \u001b[1m57s\u001b[0m 14ms/step - loss: 0.6044 - mse: 0.6044\n",
      "Epoch 32/100\n",
      "\u001b[1m4090/4090\u001b[0m \u001b[32m━━━━━━━━━━━━━━━━━━━━\u001b[0m\u001b[37m\u001b[0m \u001b[1m66s\u001b[0m 16ms/step - loss: 0.6001 - mse: 0.6001\n",
      "Epoch 35/100\n",
      "\u001b[1m4090/4090\u001b[0m \u001b[32m━━━━━━━━━━━━━━━━━━━━\u001b[0m\u001b[37m\u001b[0m \u001b[1m67s\u001b[0m 16ms/step - loss: 0.5989 - mse: 0.5989\n",
      "Epoch 36/100\n",
      "\u001b[1m4090/4090\u001b[0m \u001b[32m━━━━━━━━━━━━━━━━━━━━\u001b[0m\u001b[37m\u001b[0m \u001b[1m92s\u001b[0m 22ms/step - loss: 0.5954 - mse: 0.5954\n",
      "Epoch 37/100\n",
      "\u001b[1m4090/4090\u001b[0m \u001b[32m━━━━━━━━━━━━━━━━━━━━\u001b[0m\u001b[37m\u001b[0m \u001b[1m119s\u001b[0m 29ms/step - loss: 0.5965 - mse: 0.5965\n",
      "Epoch 38/100\n",
      "\u001b[1m4090/4090\u001b[0m \u001b[32m━━━━━━━━━━━━━━━━━━━━\u001b[0m\u001b[37m\u001b[0m \u001b[1m109s\u001b[0m 27ms/step - loss: 0.5972 - mse: 0.5972\n",
      "Epoch 39/100\n",
      "\u001b[1m4090/4090\u001b[0m \u001b[32m━━━━━━━━━━━━━━━━━━━━\u001b[0m\u001b[37m\u001b[0m \u001b[1m116s\u001b[0m 28ms/step - loss: 0.5975 - mse: 0.5975\n",
      "Epoch 40/100\n",
      "\u001b[1m4090/4090\u001b[0m \u001b[32m━━━━━━━━━━━━━━━━━━━━\u001b[0m\u001b[37m\u001b[0m \u001b[1m139s\u001b[0m 27ms/step - loss: 0.5951 - mse: 0.5951\n",
      "Epoch 41/100\n",
      "\u001b[1m4090/4090\u001b[0m \u001b[32m━━━━━━━━━━━━━━━━━━━━\u001b[0m\u001b[37m\u001b[0m \u001b[1m113s\u001b[0m 28ms/step - loss: 0.5937 - mse: 0.5937\n",
      "Epoch 42/100\n",
      "\u001b[1m4090/4090\u001b[0m \u001b[32m━━━━━━━━━━━━━━━━━━━━\u001b[0m\u001b[37m\u001b[0m \u001b[1m108s\u001b[0m 26ms/step - loss: 0.5937 - mse: 0.5937\n",
      "Epoch 43/100\n",
      "\u001b[1m4090/4090\u001b[0m \u001b[32m━━━━━━━━━━━━━━━━━━━━\u001b[0m\u001b[37m\u001b[0m \u001b[1m108s\u001b[0m 26ms/step - loss: 0.5917 - mse: 0.5917\n",
      "Epoch 44/100\n",
      "\u001b[1m4090/4090\u001b[0m \u001b[32m━━━━━━━━━━━━━━━━━━━━\u001b[0m\u001b[37m\u001b[0m \u001b[1m114s\u001b[0m 28ms/step - loss: 0.5921 - mse: 0.5921\n",
      "Epoch 45/100\n",
      "\u001b[1m4090/4090\u001b[0m \u001b[32m━━━━━━━━━━━━━━━━━━━━\u001b[0m\u001b[37m\u001b[0m \u001b[1m101s\u001b[0m 25ms/step - loss: 0.5968 - mse: 0.5968\n",
      "Epoch 46/100\n",
      "\u001b[1m4090/4090\u001b[0m \u001b[32m━━━━━━━━━━━━━━━━━━━━\u001b[0m\u001b[37m\u001b[0m \u001b[1m110s\u001b[0m 27ms/step - loss: 0.5916 - mse: 0.5916\n",
      "Epoch 47/100\n",
      "\u001b[1m4090/4090\u001b[0m \u001b[32m━━━━━━━━━━━━━━━━━━━━\u001b[0m\u001b[37m\u001b[0m \u001b[1m110s\u001b[0m 27ms/step - loss: 0.5906 - mse: 0.5906\n",
      "Epoch 48/100\n",
      "\u001b[1m4090/4090\u001b[0m \u001b[32m━━━━━━━━━━━━━━━━━━━━\u001b[0m\u001b[37m\u001b[0m \u001b[1m108s\u001b[0m 26ms/step - loss: 0.5923 - mse: 0.5923\n",
      "Epoch 49/100\n",
      "\u001b[1m4090/4090\u001b[0m \u001b[32m━━━━━━━━━━━━━━━━━━━━\u001b[0m\u001b[37m\u001b[0m \u001b[1m121s\u001b[0m 30ms/step - loss: 0.5918 - mse: 0.5918\n",
      "Epoch 50/100\n",
      "\u001b[1m4090/4090\u001b[0m \u001b[32m━━━━━━━━━━━━━━━━━━━━\u001b[0m\u001b[37m\u001b[0m \u001b[1m108s\u001b[0m 26ms/step - loss: 0.5904 - mse: 0.5904\n",
      "Epoch 51/100\n",
      "\u001b[1m4090/4090\u001b[0m \u001b[32m━━━━━━━━━━━━━━━━━━━━\u001b[0m\u001b[37m\u001b[0m \u001b[1m60s\u001b[0m 15ms/step - loss: 0.5932 - mse: 0.5932\n",
      "Epoch 54/100\n",
      "\u001b[1m4090/4090\u001b[0m \u001b[32m━━━━━━━━━━━━━━━━━━━━\u001b[0m\u001b[37m\u001b[0m \u001b[1m144s\u001b[0m 35ms/step - loss: 0.5791 - mse: 0.5791\n",
      "Epoch 85/100\n",
      "\u001b[1m4090/4090\u001b[0m \u001b[32m━━━━━━━━━━━━━━━━━━━━\u001b[0m\u001b[37m\u001b[0m \u001b[1m131s\u001b[0m 32ms/step - loss: 0.5817 - mse: 0.5817\n",
      "Epoch 86/100\n",
      "\u001b[1m4090/4090\u001b[0m \u001b[32m━━━━━━━━━━━━━━━━━━━━\u001b[0m\u001b[37m\u001b[0m \u001b[1m73s\u001b[0m 18ms/step - loss: 0.5826 - mse: 0.5826\n",
      "Epoch 91/100\n",
      "\u001b[1m4090/4090\u001b[0m \u001b[32m━━━━━━━━━━━━━━━━━━━━\u001b[0m\u001b[37m\u001b[0m \u001b[1m69s\u001b[0m 17ms/step - loss: 0.5802 - mse: 0.5802\n",
      "Epoch 92/100\n",
      "\u001b[1m4090/4090\u001b[0m \u001b[32m━━━━━━━━━━━━━━━━━━━━\u001b[0m\u001b[37m\u001b[0m \u001b[1m114s\u001b[0m 28ms/step - loss: 0.5776 - mse: 0.5776\n",
      "Epoch 93/100\n",
      "\u001b[1m4090/4090\u001b[0m \u001b[32m━━━━━━━━━━━━━━━━━━━━\u001b[0m\u001b[37m\u001b[0m \u001b[1m148s\u001b[0m 36ms/step - loss: 0.5794 - mse: 0.5794\n",
      "Epoch 94/100\n",
      "\u001b[1m4090/4090\u001b[0m \u001b[32m━━━━━━━━━━━━━━━━━━━━\u001b[0m\u001b[37m\u001b[0m \u001b[1m211s\u001b[0m 38ms/step - loss: 0.5821 - mse: 0.5821\n",
      "Epoch 95/100\n",
      "\u001b[1m4090/4090\u001b[0m \u001b[32m━━━━━━━━━━━━━━━━━━━━\u001b[0m\u001b[37m\u001b[0m \u001b[1m195s\u001b[0m 36ms/step - loss: 0.5816 - mse: 0.5816\n",
      "Epoch 96/100\n",
      "\u001b[1m4090/4090\u001b[0m \u001b[32m━━━━━━━━━━━━━━━━━━━━\u001b[0m\u001b[37m\u001b[0m \u001b[1m147s\u001b[0m 36ms/step - loss: 0.5785 - mse: 0.5785\n",
      "Epoch 97/100\n",
      "\u001b[1m4090/4090\u001b[0m \u001b[32m━━━━━━━━━━━━━━━━━━━━\u001b[0m\u001b[37m\u001b[0m \u001b[1m145s\u001b[0m 36ms/step - loss: 0.5780 - mse: 0.5780\n",
      "Epoch 98/100\n",
      "\u001b[1m4090/4090\u001b[0m \u001b[32m━━━━━━━━━━━━━━━━━━━━\u001b[0m\u001b[37m\u001b[0m \u001b[1m158s\u001b[0m 39ms/step - loss: 0.5793 - mse: 0.5793\n",
      "Epoch 99/100\n",
      "\u001b[1m4090/4090\u001b[0m \u001b[32m━━━━━━━━━━━━━━━━━━━━\u001b[0m\u001b[37m\u001b[0m \u001b[1m139s\u001b[0m 34ms/step - loss: 0.5764 - mse: 0.5764\n",
      "Epoch 100/100\n",
      "\u001b[1m4090/4090\u001b[0m \u001b[32m━━━━━━━━━━━━━━━━━━━━\u001b[0m\u001b[37m\u001b[0m \u001b[1m103s\u001b[0m 25ms/step - loss: 0.5800 - mse: 0.5800\n"
     ]
    },
    {
     "data": {
      "text/plain": [
       "<keras.src.callbacks.history.History at 0x1dd93fb9050>"
      ]
     },
     "execution_count": 10,
     "metadata": {},
     "output_type": "execute_result"
    }
   ],
   "source": [
    "model.fit(X_Train_Array, Y_Train_Array, epochs=100,  batch_size=batch_size, verbose=1)"
   ]
  },
  {
   "cell_type": "code",
   "execution_count": 11,
   "id": "13efa721-2861-40b2-98aa-0c0df4f25cd5",
   "metadata": {},
   "outputs": [],
   "source": [
    "# path = \"D:\\MyData/Clustered Data/test/4\"\n",
    "path = \"D:\\MyData/Extracted Data/test\"\n",
    "dir_list = os.listdir(path)\n",
    "# as_strided = np.lib.stride_tricks.as_strided  \n",
    "num_files = len(dir_list)"
   ]
  },
  {
   "cell_type": "code",
   "execution_count": 12,
   "id": "977fcbe5-3565-4964-96c4-a368e39b9967",
   "metadata": {},
   "outputs": [],
   "source": [
    "# start_time = time.time()\n",
    "\n",
    "# inputs_array = np.empty([0])\n",
    "# targets_array = np.empty([0])\n",
    "\n",
    "# for file in dir_list:\n",
    "#     filepath = path + '/' + file\n",
    "#     cur_data = pd.read_csv(filepath)\n",
    "#     cur_data.drop(columns=['EventID', 'FileName'], inplace=True)\n",
    "#     normalized_cur_data = (cur_data - cur_data.min()) / (cur_data.max() - cur_data.min())\n",
    "#     ncd = normalized_cur_data.to_numpy()\n",
    "#     target_start = input_sequence_length + forecast_horizon\n",
    "#     win = (input_sequence_length, ncd.shape[1])\n",
    "#     input_v1 = sliding_window_view(ncd[:forecast_horizon], win, axis=(0, 1))\n",
    "#     inputs = input_v1[:,0,:,:]\n",
    "#     targets = normalized_cur_data[target_start:]\n",
    "#     # targets_array.append(targets)\n",
    "#     # inputs_array.append(inputs)\n",
    "#     targets_array = np.append(targets_array, targets)\n",
    "#     inputs_array = np.append(inputs_array, inputs)"
   ]
  },
  {
   "cell_type": "code",
   "execution_count": 13,
   "id": "51ff19e5-6e7d-455a-9959-5c6a3f030c04",
   "metadata": {},
   "outputs": [
    {
     "name": "stdout",
     "output_type": "stream",
     "text": [
      "--- 10676.99323296547 seconds ---\n"
     ]
    }
   ],
   "source": [
    "targets_array = []\n",
    "inputs_array = []\n",
    "# inputs_array = np.empty([num_files*(49-(input_sequence_length + forecast_horizon)), 12, 13])\n",
    "# inputs_array = np.empty([0])\n",
    "# targets_array = np.empty([0])\n",
    "\n",
    "for file in dir_list:\n",
    "    filepath = path + '/' + file\n",
    "    cur_data = pd.read_csv(filepath)\n",
    "    cur_data.drop(columns=['EventID', 'FileName'], inplace=True)\n",
    "    # normalized_cur_data = (cur_data - cur_data.min()) / (cur_data.max() - cur_data.min())\n",
    "    normalized_cur_data=(cur_data-cur_data.mean())/cur_data.std()\n",
    "    ncd = normalized_cur_data.to_numpy()\n",
    "    target_start = input_sequence_length + forecast_horizon\n",
    "    win = (input_sequence_length, ncd.shape[1])\n",
    "    # temp = (ncd.shape[0] - (forecast_horizon+input_sequence_length))\n",
    "    input_v1 = sliding_window_view(ncd[:(ncd.shape[0]-forecast_horizon-1)], win, axis=(0, 1))\n",
    "    inputs = input_v1[:,0,:,:]\n",
    "    targets = normalized_cur_data[target_start:]\n",
    "    targets_array.append(targets)\n",
    "    inputs_array.append(inputs)\n",
    "    # targets_array = np.append(targets_array, targets)\n",
    "    # inputs_array = np.append(inputs_array, inputs)\n",
    "print(\"--- %s seconds ---\" % (time.time() - start_time))"
   ]
  },
  {
   "cell_type": "code",
   "execution_count": 14,
   "id": "b6fa9f6f-10a3-414f-ba0f-f377a56d548c",
   "metadata": {},
   "outputs": [
    {
     "name": "stdout",
     "output_type": "stream",
     "text": [
      "(25, 12, 13)\n",
      "(56125, 12, 13)\n",
      "(56125, 13)\n"
     ]
    }
   ],
   "source": [
    "X_Test = np.array(inputs_array)\n",
    "Y_Test = np.array(targets_array)\n",
    "X_Test = X_Test.reshape(-1, input_sequence_length, features)\n",
    "Y_Test = Y_Test.reshape(-1, features)\n",
    "print(inputs_array[0].shape)\n",
    "print(X_Test.shape)\n",
    "print(Y_Test.shape)\n",
    "X_Test = np.nan_to_num(X_Test, nan=0, posinf=0, neginf=0)\n",
    "Y_Test = np.nan_to_num(Y_Test, nan=0, posinf=0, neginf=0)"
   ]
  },
  {
   "cell_type": "code",
   "execution_count": 15,
   "id": "851d3f16-cf51-4291-8669-9172e1292ee5",
   "metadata": {},
   "outputs": [
    {
     "data": {
      "text/plain": [
       "[0.5748598575592041, 0.5748598575592041]"
      ]
     },
     "execution_count": 15,
     "metadata": {},
     "output_type": "execute_result"
    }
   ],
   "source": [
    "train = Y_Train_Array[:,0]\n",
    "trainScore = model.evaluate(X_Train_Array, Y_Train_Array, verbose=0)\n",
    "trainScore\n",
    "# print('Train Score: %.2f MSE (%.2f RMSE)' % (trainScore, math.sqrt(trainScore)))\n",
    "# testScore = model.evaluate(X_Test, Y_Test, verbose=0)\n",
    "# print('Test Score: %.2f MSE (%.2f RMSE)' % (testScore, math.sqrt(testScore)))"
   ]
  },
  {
   "cell_type": "code",
   "execution_count": 16,
   "id": "d935f524-3751-4a73-8e89-0c5cfaaa42a3",
   "metadata": {},
   "outputs": [
    {
     "data": {
      "text/plain": [
       "[0.7248660922050476, 0.7248660922050476]"
      ]
     },
     "execution_count": 16,
     "metadata": {},
     "output_type": "execute_result"
    }
   ],
   "source": [
    "testScore = model.evaluate(X_Test, Y_Test, verbose=0)\n",
    "testScore\n",
    "# print('Test Score: %.2f MSE (%.2f RMSE)' % (testScore, math.sqrt(testScore)))"
   ]
  },
  {
   "cell_type": "code",
   "execution_count": 17,
   "id": "2751c349-79ab-4008-b872-a83b8614a7ef",
   "metadata": {},
   "outputs": [
    {
     "name": "stdout",
     "output_type": "stream",
     "text": [
      "-5.140256422646281\n",
      "6.856570193821878\n",
      "0.9718471223202347\n"
     ]
    }
   ],
   "source": [
    "print(np.min(Y_Train_Array[:,0]))\n",
    "print(np.max(Y_Train_Array[:,0]))\n",
    "print(np.var(Y_Train_Array[:,0]))\n"
   ]
  },
  {
   "cell_type": "code",
   "execution_count": 29,
   "id": "34711f16-832f-4a67-98d3-88f9a0548a29",
   "metadata": {},
   "outputs": [
    {
     "name": "stdout",
     "output_type": "stream",
     "text": [
      "\u001b[1m1754/1754\u001b[0m \u001b[32m━━━━━━━━━━━━━━━━━━━━\u001b[0m\u001b[37m\u001b[0m \u001b[1m14s\u001b[0m 7ms/step\n"
     ]
    }
   ],
   "source": [
    "predictions = model.predict(X_Test)"
   ]
  },
  {
   "cell_type": "code",
   "execution_count": 30,
   "id": "0601a31d-6795-4722-a246-7df859afa975",
   "metadata": {},
   "outputs": [
    {
     "data": {
      "text/plain": [
       "array([[-0.647942  , -0.18811676, -0.5678177 , ...,  0.34641802,\n",
       "         0.04437361, -0.07588632],\n",
       "       [-0.7081665 , -0.20875695, -0.6379456 , ...,  0.35304505,\n",
       "         0.04960012, -0.10732969],\n",
       "       [-0.7953945 , -0.12892747, -0.6627957 , ...,  0.5646152 ,\n",
       "         0.01091696, -0.07538375],\n",
       "       ...,\n",
       "       [-1.1797678 , -1.6015683 , -1.4253792 , ...,  0.05739963,\n",
       "        -0.32472754,  0.20104837],\n",
       "       [-1.1375659 , -1.507369  , -1.360708  , ...,  0.09063441,\n",
       "        -0.32724103,  0.2262975 ],\n",
       "       [-1.6185193 , -1.483084  , -1.5475973 , ...,  0.2299963 ,\n",
       "        -0.42582205,  0.22465226]], dtype=float32)"
      ]
     },
     "execution_count": 30,
     "metadata": {},
     "output_type": "execute_result"
    }
   ],
   "source": [
    "predictions"
   ]
  },
  {
   "cell_type": "code",
   "execution_count": 31,
   "id": "638b5039-785f-470a-a728-f1eeba1c82cf",
   "metadata": {},
   "outputs": [
    {
     "data": {
      "text/plain": [
       "array([[-0.41464968, -0.06098757, -0.35015313, ...,  0.71762363,\n",
       "         0.2601204 , -0.05053168],\n",
       "       [-0.38715612, -0.18796848, -0.39001609, ...,  0.05300313,\n",
       "        -0.43507903, -0.04266892],\n",
       "       [-0.41253905, -0.38603944, -0.49209991, ..., -0.09086834,\n",
       "        -0.51874055, -0.04582863],\n",
       "       ...,\n",
       "       [-1.26999434, -1.70718122, -1.47178029, ...,  1.63154298,\n",
       "         0.43713452,  0.06107443],\n",
       "       [-1.41198235, -1.97467349, -1.64126142, ...,  2.25371741,\n",
       "         1.26774928,  0.16929352],\n",
       "       [-1.5216273 , -2.24981147, -1.79695419, ..., -0.73707852,\n",
       "        -2.27655592,  0.17552334]])"
      ]
     },
     "execution_count": 31,
     "metadata": {},
     "output_type": "execute_result"
    }
   ],
   "source": [
    "Y_Test"
   ]
  },
  {
   "cell_type": "code",
   "execution_count": null,
   "id": "7d433dfb-bca2-4b0e-ba6e-fd84b4dcfd90",
   "metadata": {},
   "outputs": [],
   "source": []
  }
 ],
 "metadata": {
  "kernelspec": {
   "display_name": "Python 3 (ipykernel)",
   "language": "python",
   "name": "python3"
  },
  "language_info": {
   "codemirror_mode": {
    "name": "ipython",
    "version": 3
   },
   "file_extension": ".py",
   "mimetype": "text/x-python",
   "name": "python",
   "nbconvert_exporter": "python",
   "pygments_lexer": "ipython3",
   "version": "3.11.9"
  }
 },
 "nbformat": 4,
 "nbformat_minor": 5
}
