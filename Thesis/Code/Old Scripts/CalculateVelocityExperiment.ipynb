{
 "cells": [
  {
   "cell_type": "code",
   "execution_count": 1,
   "id": "bf1b7910-f4f4-4c08-b343-bc6ee32365af",
   "metadata": {},
   "outputs": [],
   "source": [
    "import pandas as pd\n",
    "import os\n",
    "import h5py # needs conda/pip install h5py\n",
    "import matplotlib.pyplot as plt\n",
    "import io\n",
    "from scipy import ndimage\n",
    "import numpy as np"
   ]
  },
  {
   "cell_type": "code",
   "execution_count": 2,
   "id": "38213ab7-0ef9-43f4-aa05-d5b5445c1f25",
   "metadata": {},
   "outputs": [],
   "source": [
    "DATA_PATH    = 'D:\\ThesisData\\data'\n",
    "CATALOG_PATH = 'D:\\ThesisData/CATALOG.csv' "
   ]
  },
  {
   "cell_type": "code",
   "execution_count": 3,
   "id": "b3ab1b13-d89c-42ac-ad74-dc54916021fe",
   "metadata": {},
   "outputs": [
    {
     "name": "stdout",
     "output_type": "stream",
     "text": [
      "Event ID: b'S728503'\n"
     ]
    }
   ],
   "source": [
    "file_index = 0\n",
    "with h5py.File('%s/vil/2018/SEVIR_VIL_STORMEVENTS_2018_0101_0630.h5' % DATA_PATH,'r') as hf:\n",
    "    event_id = hf['id'][file_index]\n",
    "    vil      = hf['vil'][file_index] \n",
    "print('Event ID:',event_id)\n",
    "# image = np.array(vil[:,:,10])"
   ]
  },
  {
   "cell_type": "code",
   "execution_count": 4,
   "id": "a0063e81-fc8e-485d-90ef-cf3fd62112d1",
   "metadata": {},
   "outputs": [],
   "source": [
    "from findCenter import findCenter\n",
    "features = ['X', 'Y']\n",
    "position = pd.DataFrame([], index=np.arange(vil.shape[2]), columns=features)\n",
    "weighted_Position = pd.DataFrame([], index=np.arange(vil.shape[2]), columns=features)"
   ]
  },
  {
   "cell_type": "code",
   "execution_count": 5,
   "id": "b2335801-664e-4767-9a1e-d8dfe429a14b",
   "metadata": {},
   "outputs": [],
   "source": [
    "for image in range(0, vil.shape[2]):\n",
    "    vals = findCenter(vil[:,:,image], 100)\n",
    "    weightedVals, unweightedVals = vals[0], vals[1]\n",
    "    weighted_Position.loc[image,:] = weightedVals\n",
    "    position.loc[image,:] = unweightedVals"
   ]
  },
  {
   "cell_type": "code",
   "execution_count": 6,
   "id": "9c10faa1-a928-4723-ba58-10e4db5685bf",
   "metadata": {},
   "outputs": [
    {
     "data": {
      "text/html": [
       "<div>\n",
       "<style scoped>\n",
       "    .dataframe tbody tr th:only-of-type {\n",
       "        vertical-align: middle;\n",
       "    }\n",
       "\n",
       "    .dataframe tbody tr th {\n",
       "        vertical-align: top;\n",
       "    }\n",
       "\n",
       "    .dataframe thead th {\n",
       "        text-align: right;\n",
       "    }\n",
       "</style>\n",
       "<table border=\"1\" class=\"dataframe\">\n",
       "  <thead>\n",
       "    <tr style=\"text-align: right;\">\n",
       "      <th></th>\n",
       "      <th>X</th>\n",
       "      <th>Y</th>\n",
       "    </tr>\n",
       "  </thead>\n",
       "  <tbody>\n",
       "    <tr>\n",
       "      <th>0</th>\n",
       "      <td>260.422861</td>\n",
       "      <td>123.008538</td>\n",
       "    </tr>\n",
       "    <tr>\n",
       "      <th>1</th>\n",
       "      <td>257.309659</td>\n",
       "      <td>123.19115</td>\n",
       "    </tr>\n",
       "    <tr>\n",
       "      <th>2</th>\n",
       "      <td>259.440182</td>\n",
       "      <td>126.80496</td>\n",
       "    </tr>\n",
       "    <tr>\n",
       "      <th>3</th>\n",
       "      <td>255.106673</td>\n",
       "      <td>127.834861</td>\n",
       "    </tr>\n",
       "    <tr>\n",
       "      <th>4</th>\n",
       "      <td>255.30433</td>\n",
       "      <td>131.031295</td>\n",
       "    </tr>\n",
       "  </tbody>\n",
       "</table>\n",
       "</div>"
      ],
      "text/plain": [
       "            X           Y\n",
       "0  260.422861  123.008538\n",
       "1  257.309659   123.19115\n",
       "2  259.440182   126.80496\n",
       "3  255.106673  127.834861\n",
       "4   255.30433  131.031295"
      ]
     },
     "execution_count": 6,
     "metadata": {},
     "output_type": "execute_result"
    }
   ],
   "source": [
    "position.head(5)"
   ]
  },
  {
   "cell_type": "code",
   "execution_count": 7,
   "id": "a78b59d9-3c4d-4c68-87d5-7d6ab81f9a27",
   "metadata": {},
   "outputs": [
    {
     "data": {
      "image/png": "[encoded data removed]",
      "text/plain": [
       "<Figure size 640x480 with 1 Axes>"
      ]
     },
     "metadata": {},
     "output_type": "display_data"
    }
   ],
   "source": [
    "fig = plt.scatter(position.iloc[:,0], position.iloc[:,1], s=1)\n",
    "plt.plot(position.iloc[0,0], position.iloc[0,1], 'og', markersize=5)\n",
    "plt.plot(position.iloc[vil.shape[2]-1,0], position.iloc[vil.shape[2]-1,1], 'xr', markersize=5)\n",
    "ax = plt.gca()\n",
    "ax.set_xlim([0, 384])\n",
    "ax.set_ylim([0, 384])\n",
    "plt.gca().invert_yaxis()\n"
   ]
  },
  {
   "cell_type": "markdown",
   "id": "769c35f2-6a37-4a5f-96da-d68aaebc7537",
   "metadata": {},
   "source": [
    "## Making Velocity Vector (XY components) from Position"
   ]
  },
  {
   "cell_type": "code",
   "execution_count": 8,
   "id": "f37ece8f-a35e-448c-a89b-60507574baae",
   "metadata": {},
   "outputs": [],
   "source": [
    "features = ['X', 'Y']\n",
    "velocity = np.diff(position, axis=0)\n",
    "weighted_velocity = np.diff(weighted_Position, axis=0)"
   ]
  },
  {
   "cell_type": "code",
   "execution_count": 9,
   "id": "3698e526-db78-4521-a91b-286037141dd1",
   "metadata": {},
   "outputs": [
    {
     "data": {
      "text/plain": [
       "(48, 2)"
      ]
     },
     "execution_count": 9,
     "metadata": {},
     "output_type": "execute_result"
    }
   ],
   "source": [
    "weighted_velocity.shape"
   ]
  },
  {
   "cell_type": "code",
   "execution_count": null,
   "id": "fa1af020-c2ce-4c23-8e8c-505b9ec0514c",
   "metadata": {},
   "outputs": [],
   "source": []
  },
  {
   "cell_type": "code",
   "execution_count": null,
   "id": "9ed9b839-3100-4ce0-9dff-7cd03a2e3647",
   "metadata": {},
   "outputs": [],
   "source": []
  }
 ],
 "metadata": {
  "kernelspec": {
   "display_name": "Python 3 (ipykernel)",
   "language": "python",
   "name": "python3"
  },
  "language_info": {
   "codemirror_mode": {
    "name": "ipython",
    "version": 3
   },
   "file_extension": ".py",
   "mimetype": "text/x-python",
   "name": "python",
   "nbconvert_exporter": "python",
   "pygments_lexer": "ipython3",
   "version": "3.11.9"
  }
 },
 "nbformat": 4,
 "nbformat_minor": 5
}
